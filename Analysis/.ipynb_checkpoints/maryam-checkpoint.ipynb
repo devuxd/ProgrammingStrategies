{
 "cells": [
  {
   "cell_type": "code",
   "execution_count": 69,
   "metadata": {},
   "outputs": [
    {
     "data": {
      "text/plain": [
       "LogisticIT(alpha=1.0, max_iter=1000, verbose=0)"
      ]
     },
     "execution_count": 69,
     "metadata": {},
     "output_type": "execute_result"
    }
   ],
   "source": [
    "import pandas as pd\n",
    "from mord import LogisticIT\n",
    "import scipy.stats as stat\n",
    "\n",
    "from sklearn.linear_model import LogisticRegression\n",
    "import numpy as np\n",
    "df = pd.read_csv('./Input/debug-normal.txt',header=None)\n",
    "df.columns = ['x1','x2','y']\n",
    "df['x1'] = df['x1'].astype(str)\n",
    "lo = LogisticIT()\n",
    "lr = LogisticRegression()\n",
    "df = pd.get_dummies(df,columns=['x1','x2'],drop_first=True)\n",
    "#df['intercept'] = 1\n",
    "X = df[[col for col in df.columns if col!='y']]\n",
    "y = df['y']\n",
    "lr.fit(X,y)\n",
    "lo.fit(X,y)"
   ]
  },
  {
   "cell_type": "code",
   "execution_count": 70,
   "metadata": {},
   "outputs": [
    {
     "data": {
      "text/plain": [
       "[0.37814414351556003,\n",
       " 0.50091754348640072,\n",
       " 0.54741042744308066,\n",
       " 0.78662644995616626,\n",
       " 0.90974329806545706,\n",
       " 0.12439182338677381]"
      ]
     },
     "execution_count": 70,
     "metadata": {},
     "output_type": "execute_result"
    }
   ],
   "source": [
    "denom = (2.0*(1.0+np.cosh(lr.decision_function(X))))\n",
    "denom = np.tile(denom,int(X.shape[1]/denom.shape[1]))\n",
    "F_ij = np.dot((X/denom).T,X) ## Fisher Information Matrix\n",
    "Cramer_Rao = np.linalg.inv(F_ij) ## Inverse Information Matrix\n",
    "sigma_estimates = np.array([np.sqrt(Cramer_Rao[i,i]) for i in range(Cramer_Rao.shape[0])]) # sigma for each coefficient\n",
    "z_scores = lr.coef_[0]/sigma_estimates # z-score for eaach model coefficient\n",
    "p_values = [stat.norm.sf(abs(x))*2 for x in z_scores] ### two tailed test for p-values\n",
    "\n",
    "p_values"
   ]
  }
 ],
 "metadata": {
  "kernelspec": {
   "display_name": "Python 2",
   "language": "python",
   "name": "python2"
  },
  "language_info": {
   "codemirror_mode": {
    "name": "ipython",
    "version": 2
   },
   "file_extension": ".py",
   "mimetype": "text/x-python",
   "name": "python",
   "nbconvert_exporter": "python",
   "pygments_lexer": "ipython2",
   "version": "2.7.14"
  }
 },
 "nbformat": 4,
 "nbformat_minor": 2
}
