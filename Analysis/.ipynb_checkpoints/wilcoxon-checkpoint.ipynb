{
 "cells": [
  {
   "cell_type": "code",
   "execution_count": 49,
   "metadata": {
    "collapsed": true
   },
   "outputs": [],
   "source": [
    "import pandas as pd\n",
    "from mord import LogisticIT\n",
    "import scipy.stats as stat\n",
    "\n",
    "from sklearn.linear_model import LogisticRegression\n",
    "import numpy as np\n",
    "DATASET_PATH = \"./Input/debug-normal.txt\"\n",
    "data_headers = [\"Expertise\",\"Guided\",\"Outcome\"]\n",
    "dta = pd.read_csv(DATASET_PATH,header=None)\n",
    "dta.columns = ['expertise','guided','outcome']"
   ]
  },
  {
   "cell_type": "code",
   "execution_count": 50,
   "metadata": {
    "collapsed": true
   },
   "outputs": [],
   "source": [
    "\n",
    "dta['expertise'] = dta['expertise'].astype(int)\n",
    "dta['guided'] = dta['guided'].astype(int)\n",
    "dta['outcome'] = dta['outcome'].astype(int)"
   ]
  },
  {
   "cell_type": "code",
   "execution_count": 51,
   "metadata": {
    "collapsed": true
   },
   "outputs": [],
   "source": [
    "from scipy.stats import wilcoxon"
   ]
  },
  {
   "cell_type": "code",
   "execution_count": 52,
   "metadata": {},
   "outputs": [
    {
     "data": {
      "text/plain": [
       "0.0"
      ]
     },
     "execution_count": 52,
     "metadata": {},
     "output_type": "execute_result"
    }
   ],
   "source": [
    "np.median(dta[dta.expertise==1]['outcome'])"
   ]
  },
  {
   "cell_type": "code",
   "execution_count": 53,
   "metadata": {},
   "outputs": [
    {
     "data": {
      "text/plain": [
       "0.0"
      ]
     },
     "execution_count": 53,
     "metadata": {},
     "output_type": "execute_result"
    }
   ],
   "source": [
    "np.median(dta[dta.expertise==0]['outcome'])"
   ]
  },
  {
   "cell_type": "code",
   "execution_count": 54,
   "metadata": {},
   "outputs": [
    {
     "data": {
      "text/plain": [
       "1.0"
      ]
     },
     "execution_count": 54,
     "metadata": {},
     "output_type": "execute_result"
    }
   ],
   "source": [
    "np.median(dta[dta.guided==1]['outcome'])"
   ]
  },
  {
   "cell_type": "code",
   "execution_count": 55,
   "metadata": {},
   "outputs": [
    {
     "data": {
      "text/plain": [
       "0.0"
      ]
     },
     "execution_count": 55,
     "metadata": {},
     "output_type": "execute_result"
    }
   ],
   "source": [
    "np.median(dta[dta.guided==0]['outcome'])"
   ]
  },
  {
   "cell_type": "code",
   "execution_count": 56,
   "metadata": {},
   "outputs": [
    {
     "data": {
      "text/plain": [
       "WilcoxonResult(statistic=136.5, pvalue=0.12632999512667031)"
      ]
     },
     "execution_count": 56,
     "metadata": {},
     "output_type": "execute_result"
    }
   ],
   "source": [
    "wilcoxon(dta['expertise'].astype(int),dta['outcome'], zero_method='pratt', correction=False)"
   ]
  },
  {
   "cell_type": "code",
   "execution_count": 57,
   "metadata": {},
   "outputs": [
    {
     "data": {
      "text/plain": [
       "WilcoxonResult(statistic=115.0, pvalue=0.043557176039274878)"
      ]
     },
     "execution_count": 57,
     "metadata": {},
     "output_type": "execute_result"
    }
   ],
   "source": [
    "wilcoxon(dta['guided'],dta['outcome'], zero_method='pratt', correction=False)"
   ]
  },
  {
   "cell_type": "code",
   "execution_count": 58,
   "metadata": {
    "collapsed": true
   },
   "outputs": [],
   "source": [
    "import pandas as pd\n",
    "import scipy.stats as stat\n",
    "import numpy as np\n",
    "DATASET_PATH = \"./Input/designTest.txt\"\n",
    "\n"
   ]
  },
  {
   "cell_type": "code",
   "execution_count": 59,
   "metadata": {
    "collapsed": true
   },
   "outputs": [],
   "source": [
    "data_headers = [\"Expertise\",\"Guided\",\"Outcome\"]\n",
    "dta = pd.read_csv(DATASET_PATH,header=None)"
   ]
  },
  {
   "cell_type": "code",
   "execution_count": 60,
   "metadata": {
    "collapsed": true
   },
   "outputs": [],
   "source": [
    "\n",
    "dta.columns = ['expertise','guided','Outcome']\n",
    "dta['expertise'] = dta['expertise'].astype(int)\n",
    "dta['guided'] = dta['guided'].astype(int)\n",
    "dta['outcome'] = dta['Outcome'].astype(int)"
   ]
  },
  {
   "cell_type": "code",
   "execution_count": null,
   "metadata": {
    "collapsed": true
   },
   "outputs": [],
   "source": []
  },
  {
   "cell_type": "code",
   "execution_count": 61,
   "metadata": {},
   "outputs": [
    {
     "data": {
      "text/plain": [
       "0.0"
      ]
     },
     "execution_count": 61,
     "metadata": {},
     "output_type": "execute_result"
    }
   ],
   "source": [
    "np.median(dta[dta.expertise==1]['Outcome'])"
   ]
  },
  {
   "cell_type": "code",
   "execution_count": 62,
   "metadata": {},
   "outputs": [
    {
     "data": {
      "text/plain": [
       "1.0"
      ]
     },
     "execution_count": 62,
     "metadata": {},
     "output_type": "execute_result"
    }
   ],
   "source": [
    "np.median(dta[dta.expertise==0]['outcome'])"
   ]
  },
  {
   "cell_type": "code",
   "execution_count": 63,
   "metadata": {},
   "outputs": [
    {
     "data": {
      "text/plain": [
       "1.0"
      ]
     },
     "execution_count": 63,
     "metadata": {},
     "output_type": "execute_result"
    }
   ],
   "source": [
    "np.median(dta[dta.guided==1]['outcome'])"
   ]
  },
  {
   "cell_type": "code",
   "execution_count": 64,
   "metadata": {},
   "outputs": [
    {
     "data": {
      "text/plain": [
       "0.0"
      ]
     },
     "execution_count": 64,
     "metadata": {},
     "output_type": "execute_result"
    }
   ],
   "source": [
    "np.median(dta[dta.guided==0]['outcome'])"
   ]
  },
  {
   "cell_type": "code",
   "execution_count": 65,
   "metadata": {},
   "outputs": [
    {
     "data": {
      "text/plain": [
       "WilcoxonResult(statistic=116.0, pvalue=0.044291087157213964)"
      ]
     },
     "execution_count": 65,
     "metadata": {},
     "output_type": "execute_result"
    }
   ],
   "source": [
    "wilcoxon(dta['expertise'],dta['outcome'], zero_method='pratt', correction=False)"
   ]
  },
  {
   "cell_type": "code",
   "execution_count": 66,
   "metadata": {},
   "outputs": [
    {
     "data": {
      "text/plain": [
       "WilcoxonResult(statistic=39.0, pvalue=0.00018627601530705665)"
      ]
     },
     "execution_count": 66,
     "metadata": {},
     "output_type": "execute_result"
    }
   ],
   "source": [
    "wilcoxon(dta['guided'],dta['outcome'], zero_method='pratt', correction=False)"
   ]
  },
  {
   "cell_type": "code",
   "execution_count": 67,
   "metadata": {
    "collapsed": true
   },
   "outputs": [],
   "source": [
    "import pandas as pd\n",
    "import scipy.stats as stat\n",
    "import numpy as np\n",
    "DATASET_PATH = \"./Input/design-normal.txt\"\n",
    "data_headers = [\"Expertise\",\"Guided\",\"Outcome\"]\n",
    "dta = pd.read_csv(DATASET_PATH,header=None)\n",
    "dta.columns = ['expertise','guided','Outcome']\n",
    "dta['expertise'] = dta['expertise'].astype(int)\n",
    "dta['guided'] = dta['guided'].astype(int)\n",
    "dta['outcome'] = dta['Outcome'].astype(int)\n"
   ]
  },
  {
   "cell_type": "code",
   "execution_count": 68,
   "metadata": {},
   "outputs": [
    {
     "data": {
      "text/plain": [
       "WilcoxonResult(statistic=24.0, pvalue=3.9393782443326887e-05)"
      ]
     },
     "execution_count": 68,
     "metadata": {},
     "output_type": "execute_result"
    }
   ],
   "source": [
    "wilcoxon(dta['expertise'],dta['outcome'], zero_method='pratt', correction=False)"
   ]
  },
  {
   "cell_type": "code",
   "execution_count": 69,
   "metadata": {},
   "outputs": [
    {
     "data": {
      "text/plain": [
       "WilcoxonResult(statistic=19.0, pvalue=2.5939072642624849e-05)"
      ]
     },
     "execution_count": 69,
     "metadata": {},
     "output_type": "execute_result"
    }
   ],
   "source": [
    "wilcoxon(dta['guided'],dta['outcome'], zero_method='pratt', correction=False)"
   ]
  },
  {
   "cell_type": "code",
   "execution_count": 70,
   "metadata": {
    "collapsed": true
   },
   "outputs": [],
   "source": [
    "import pandas as pd\n",
    "import scipy.stats as stat\n",
    "import numpy as np\n",
    "from scipy.stats import wilcoxon\n",
    "DATASET_PATH = \"./Input/design-normal-time.txt\"\n",
    "data_headers = [\"Expertise\",\"Guided\",\"Time\"]\n",
    "dta = pd.read_csv(DATASET_PATH,header=None)\n",
    "dta.columns = ['expertise','guided','Time']\n",
    "dta['expertise'] = dta['expertise'].astype(int)\n",
    "dta['guided'] = dta['guided'].astype(int)\n",
    "dta['Time'] = dta['Time'].astype(int)\n"
   ]
  },
  {
   "cell_type": "code",
   "execution_count": 71,
   "metadata": {},
   "outputs": [
    {
     "data": {
      "text/plain": [
       "WilcoxonResult(statistic=0.0, pvalue=2.8495155363374812e-06)"
      ]
     },
     "execution_count": 71,
     "metadata": {},
     "output_type": "execute_result"
    }
   ],
   "source": [
    "wilcoxon(dta['expertise'],dta['Time'], zero_method='pratt', correction=False)"
   ]
  },
  {
   "cell_type": "code",
   "execution_count": 72,
   "metadata": {},
   "outputs": [
    {
     "data": {
      "text/plain": [
       "WilcoxonResult(statistic=0.0, pvalue=2.7159043782668451e-06)"
      ]
     },
     "execution_count": 72,
     "metadata": {},
     "output_type": "execute_result"
    }
   ],
   "source": [
    "wilcoxon(dta['guided'],dta['Time'], zero_method='pratt', correction=False)"
   ]
  },
  {
   "cell_type": "code",
   "execution_count": 150,
   "metadata": {
    "collapsed": true
   },
   "outputs": [],
   "source": [
    "import pandas as pd\n",
    "import scipy.stats as stat\n",
    "import numpy as np\n",
    "from scipy.stats import wilcoxon\n",
    "DATASET_PATH = \"./Input/debug-normal-time.txt\"\n",
    "data_headers = [\"Expertise\",\"Guided\",\"Time\"]\n",
    "dtadebug = pd.read_csv(DATASET_PATH,header=None)\n",
    "dtadebug.columns = ['expertise','guided','Time']\n",
    "dtadebug['expertise'] = dtadebug['expertise'].astype(int)\n",
    "dtadebug['guided'] = dtadebug['guided'].astype(int)\n",
    "dtadebug['Time'] = dtadebug['Time'].astype(int)\n"
   ]
  },
  {
   "cell_type": "code",
   "execution_count": 151,
   "metadata": {},
   "outputs": [
    {
     "data": {
      "text/plain": [
       "MannwhitneyuResult(statistic=93.5, pvalue=0.5)"
      ]
     },
     "execution_count": 151,
     "metadata": {},
     "output_type": "execute_result"
    }
   ],
   "source": [
    "stat.mannwhitneyu(dtadebug[dtadebug.expertise==0]['Time'], dtadebug[dtadebug.expertise==1]['Time'], use_continuity=False, alternative=None)"
   ]
  },
  {
   "cell_type": "code",
   "execution_count": 152,
   "metadata": {},
   "outputs": [
    {
     "data": {
      "text/plain": [
       "MannwhitneyuResult(statistic=75.0, pvalue=0.056738052045838351)"
      ]
     },
     "execution_count": 152,
     "metadata": {},
     "output_type": "execute_result"
    }
   ],
   "source": [
    "stat.mannwhitneyu(dtadebug[dtadebug.guided==0]['Time'], dtadebug[dtadebug.guided==1]['Time'], use_continuity=False, alternative=None)"
   ]
  },
  {
   "cell_type": "code",
   "execution_count": 108,
   "metadata": {},
   "outputs": [
    {
     "data": {
      "text/plain": [
       "RanksumsResult(statistic=-6.4236405483757295, pvalue=1.3305317979005323e-10)"
      ]
     },
     "execution_count": 108,
     "metadata": {},
     "output_type": "execute_result"
    }
   ],
   "source": [
    "stat.ranksums(dtadebug['expertise'], dtadebug['Time'])"
   ]
  },
  {
   "cell_type": "code",
   "execution_count": 109,
   "metadata": {},
   "outputs": [
    {
     "data": {
      "text/plain": [
       "RanksumsResult(statistic=-6.4236405483757295, pvalue=1.3305317979005323e-10)"
      ]
     },
     "execution_count": 109,
     "metadata": {},
     "output_type": "execute_result"
    }
   ],
   "source": [
    "stat.ranksums(dtadebug['guided'], dtadebug['Time'])"
   ]
  },
  {
   "cell_type": "code",
   "execution_count": 110,
   "metadata": {},
   "outputs": [
    {
     "data": {
      "text/plain": [
       "MannwhitneyuResult(statistic=0.0, pvalue=1.3457564714654921e-11)"
      ]
     },
     "execution_count": 110,
     "metadata": {},
     "output_type": "execute_result"
    }
   ],
   "source": [
    "from scipy.stats import mannwhitneyu\n",
    "stat.mannwhitneyu(dtadebug['guided'], dtadebug['Time'], use_continuity=True, alternative=\"two-sided\")"
   ]
  },
  {
   "cell_type": "code",
   "execution_count": 111,
   "metadata": {},
   "outputs": [
    {
     "data": {
      "text/plain": [
       "MannwhitneyuResult(statistic=0.0, pvalue=1.2027929580084538e-11)"
      ]
     },
     "execution_count": 111,
     "metadata": {},
     "output_type": "execute_result"
    }
   ],
   "source": [
    "stat.mannwhitneyu(dtadebug['expertise'], dtadebug['Time'], use_continuity=True, alternative=\"two-sided\")"
   ]
  },
  {
   "cell_type": "code",
   "execution_count": 141,
   "metadata": {
    "collapsed": true
   },
   "outputs": [],
   "source": [
    "import pandas as pd\n",
    "import scipy.stats as stat\n",
    "import numpy as np\n",
    "from scipy.stats import wilcoxon\n",
    "DATASET_PATH = \"./Input/design-normal-time.txt\"\n",
    "data_headers = [\"Expertise\",\"Guided\",\"Time\"]\n",
    "dta = pd.read_csv(DATASET_PATH,header=None)\n",
    "dta.columns = ['expertise','guided','Time']\n",
    "# dta['expertise'] = dta['expertise'].astype(int)\n",
    "# dta['guided'] = dta['guided'].astype(int)\n",
    "# dta['Time'] = dta['Time'].astype(int)\n"
   ]
  },
  {
   "cell_type": "code",
   "execution_count": 134,
   "metadata": {},
   "outputs": [
    {
     "data": {
      "text/plain": [
       "2     26\n",
       "4     30\n",
       "6     30\n",
       "13    30\n",
       "14    30\n",
       "15    30\n",
       "16    22\n",
       "18    30\n",
       "19    30\n",
       "20    35\n",
       "22    30\n",
       "25    23\n",
       "26    30\n",
       "27    30\n",
       "Name: Time, dtype: int64"
      ]
     },
     "execution_count": 134,
     "metadata": {},
     "output_type": "execute_result"
    }
   ],
   "source": [
    "dta[dta.expertise==0]['Time']"
   ]
  },
  {
   "cell_type": "code",
   "execution_count": 133,
   "metadata": {},
   "outputs": [
    {
     "data": {
      "text/plain": [
       "0     30\n",
       "1     30\n",
       "3     30\n",
       "5     30\n",
       "7     21\n",
       "8     29\n",
       "9     30\n",
       "10    30\n",
       "11    30\n",
       "12    30\n",
       "17    30\n",
       "21    30\n",
       "23    30\n",
       "24    26\n",
       "Name: Time, dtype: int64"
      ]
     },
     "execution_count": 133,
     "metadata": {},
     "output_type": "execute_result"
    }
   ],
   "source": [
    "dta[dta.expertise==1]['Time']"
   ]
  },
  {
   "cell_type": "code",
   "execution_count": 135,
   "metadata": {},
   "outputs": [
    {
     "data": {
      "text/plain": [
       "MannwhitneyuResult(statistic=93.5, pvalue=0.39284911440555698)"
      ]
     },
     "execution_count": 135,
     "metadata": {},
     "output_type": "execute_result"
    }
   ],
   "source": [
    "stat.mannwhitneyu(dta[dta.expertise==0]['Time'], dta[dta.expertise==1]['Time'], use_continuity=False, alternative=None)\n"
   ]
  },
  {
   "cell_type": "code",
   "execution_count": 136,
   "metadata": {},
   "outputs": [
    {
     "data": {
      "text/plain": [
       "MannwhitneyuResult(statistic=75.5, pvalue=0.086993398644497621)"
      ]
     },
     "execution_count": 136,
     "metadata": {},
     "output_type": "execute_result"
    }
   ],
   "source": [
    "stat.mannwhitneyu(dta[dta.guided==0]['Time'], dta[dta.guided==1]['Time'], use_continuity=False, alternative=None)"
   ]
  },
  {
   "cell_type": "code",
   "execution_count": null,
   "metadata": {
    "collapsed": true
   },
   "outputs": [],
   "source": []
  }
 ],
 "metadata": {
  "kernelspec": {
   "display_name": "Python 2",
   "language": "python",
   "name": "python2"
  },
  "language_info": {
   "codemirror_mode": {
    "name": "ipython",
    "version": 2
   },
   "file_extension": ".py",
   "mimetype": "text/x-python",
   "name": "python",
   "nbconvert_exporter": "python",
   "pygments_lexer": "ipython2",
   "version": "2.7.14"
  }
 },
 "nbformat": 4,
 "nbformat_minor": 2
}
