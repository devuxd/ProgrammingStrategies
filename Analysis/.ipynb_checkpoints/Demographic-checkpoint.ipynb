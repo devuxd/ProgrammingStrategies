{
 "cells": [
  {
   "cell_type": "code",
   "execution_count": null,
   "metadata": {
    "collapsed": true
   },
   "outputs": [],
   "source": [
    "import pandas as pd\n",
    "from mord import LogisticIT\n",
    "import scipy.stats as stat\n",
    "\n",
    "from sklearn.linear_model import LogisticRegression\n",
    "import numpy as np\n",
    "DATASET_PATH = \"./Input/Demographic.txt\"\n",
    "data_headers = [\"Expertise\",\"Guided\",\"Outcome\"]\n",
    "dta = pd.read_csv(DATASET_PATH,header=None)\n",
    "dta.columns = ['expertise','guided','outcome']"
   ]
  }
 ],
 "metadata": {
  "kernelspec": {
   "display_name": "Python 2",
   "language": "python",
   "name": "python2"
  },
  "language_info": {
   "codemirror_mode": {
    "name": "ipython",
    "version": 2
   },
   "file_extension": ".py",
   "mimetype": "text/x-python",
   "name": "python",
   "nbconvert_exporter": "python",
   "pygments_lexer": "ipython2",
   "version": "2.7.14"
  }
 },
 "nbformat": 4,
 "nbformat_minor": 2
}
