{
 "cells": [
  {
   "cell_type": "code",
   "execution_count": 1,
   "metadata": {
    "collapsed": true
   },
   "outputs": [],
   "source": [
    "import pandas as pd\n",
    "import scipy.stats as stat\n",
    "import numpy as np\n",
    "from scipy.stats import wilcoxon\n",
    "DATASET_PATH = \"./Input/debug-normal-time.txt\"\n",
    "data_headers = [\"Expertise\",\"Guided\",\"Time\"]\n",
    "dtadebug = pd.read_csv(DATASET_PATH,header=None)\n",
    "dtadebug.columns = ['expertise','guided','Time']\n",
    "dtadebug['expertise'] = dtadebug['expertise'].astype(int)\n",
    "dtadebug['guided'] = dtadebug['guided'].astype(int)\n",
    "dtadebug['Time'] = dtadebug['Time'].astype(int)"
   ]
  },
  {
   "cell_type": "code",
   "execution_count": 2,
   "metadata": {},
   "outputs": [
    {
     "data": {
      "text/plain": [
       "MannwhitneyuResult(statistic=93.5, pvalue=0.5)"
      ]
     },
     "execution_count": 2,
     "metadata": {},
     "output_type": "execute_result"
    }
   ],
   "source": [
    "stat.mannwhitneyu(dtadebug[dtadebug.expertise==0]['Time'], dtadebug[dtadebug.expertise==1]['Time'], use_continuity=False, alternative=None)"
   ]
  },
  {
   "cell_type": "code",
   "execution_count": 3,
   "metadata": {},
   "outputs": [
    {
     "data": {
      "text/plain": [
       "MannwhitneyuResult(statistic=75.0, pvalue=0.056738052045838351)"
      ]
     },
     "execution_count": 3,
     "metadata": {},
     "output_type": "execute_result"
    }
   ],
   "source": [
    "stat.mannwhitneyu(dtadebug[dtadebug.guided==1]['Time'], dtadebug[dtadebug.guided==0]['Time'], use_continuity=False, alternative=None)"
   ]
  },
  {
   "cell_type": "code",
   "execution_count": 4,
   "metadata": {
    "collapsed": true
   },
   "outputs": [],
   "source": [
    "DATASET_PATH = \"./Input/design-normal-time.txt\"\n",
    "data_headers = [\"Expertise\",\"Guided\",\"Time\"]\n",
    "dtaDesign = pd.read_csv(DATASET_PATH,header=None)\n",
    "dtaDesign.columns = ['expertise','guided','Time']\n",
    "dtaDesign['expertise'] = dtaDesign['expertise'].astype(int)\n",
    "dtaDesign['guided'] = dtaDesign['guided'].astype(int)\n",
    "dtaDesign['Time'] = dtaDesign['Time'].astype(int)"
   ]
  },
  {
   "cell_type": "code",
   "execution_count": 5,
   "metadata": {},
   "outputs": [
    {
     "data": {
      "text/plain": [
       "MannwhitneyuResult(statistic=93.5, pvalue=0.39284911440555698)"
      ]
     },
     "execution_count": 5,
     "metadata": {},
     "output_type": "execute_result"
    }
   ],
   "source": [
    "stat.mannwhitneyu(dtaDesign[dtaDesign.expertise==0]['Time'], dtaDesign[dtaDesign.expertise==1]['Time'], use_continuity=False, alternative=None)"
   ]
  },
  {
   "cell_type": "code",
   "execution_count": 6,
   "metadata": {},
   "outputs": [
    {
     "data": {
      "text/plain": [
       "MannwhitneyuResult(statistic=75.5, pvalue=0.086993398644497621)"
      ]
     },
     "execution_count": 6,
     "metadata": {},
     "output_type": "execute_result"
    }
   ],
   "source": [
    "stat.mannwhitneyu(dtaDesign[dtaDesign.guided==0]['Time'], dtaDesign[dtaDesign.guided==1]['Time'], use_continuity=False, alternative=None)"
   ]
  },
  {
   "cell_type": "code",
   "execution_count": 30,
   "metadata": {
    "collapsed": true
   },
   "outputs": [],
   "source": [
    "from sklearn.linear_model import LogisticRegression\n",
    "import numpy as np\n",
    "DATASET_PATH = \"./Input/debug-normal.txt\"\n",
    "data_headers = [\"Expertise\",\"Guided\",\"Outcome\"]\n",
    "dta = pd.read_csv(DATASET_PATH,header=None)\n",
    "dta.columns = ['expertise','guided','outcome']\n",
    "dta['expertise'] = dta['expertise'].astype(int)\n",
    "dta['guided'] = dta['guided'].astype(int)\n",
    "dta['outcome'] = dta['outcome'].astype(int)"
   ]
  },
  {
   "cell_type": "code",
   "execution_count": 31,
   "metadata": {},
   "outputs": [
    {
     "data": {
      "text/plain": [
       "MannwhitneyuResult(statistic=92.5, pvalue=0.47795393428790822)"
      ]
     },
     "execution_count": 31,
     "metadata": {},
     "output_type": "execute_result"
    }
   ],
   "source": [
    "stat.mannwhitneyu(dta[dta.expertise==0]['outcome'], dta[dta.expertise==1]['outcome'], use_continuity=False, alternative=None)"
   ]
  },
  {
   "cell_type": "code",
   "execution_count": 32,
   "metadata": {},
   "outputs": [
    {
     "data": {
      "text/plain": [
       "MannwhitneyuResult(statistic=39.5, pvalue=0.00079074262395028585)"
      ]
     },
     "execution_count": 32,
     "metadata": {},
     "output_type": "execute_result"
    }
   ],
   "source": [
    "stat.mannwhitneyu(dta[dta.guided==0]['outcome'], dta[dta.guided==1]['outcome'], use_continuity=False, alternative=None)"
   ]
  },
  {
   "cell_type": "code",
   "execution_count": 28,
   "metadata": {},
   "outputs": [
    {
     "data": {
      "text/plain": [
       "MannwhitneyuResult(statistic=72.0, pvalue=0.10360126006160947)"
      ]
     },
     "execution_count": 28,
     "metadata": {},
     "output_type": "execute_result"
    }
   ],
   "source": [
    "DATASET_PATH = \"./Input/designTest.txt\"\n",
    "data_headers = [\"Expertise\",\"Guided\",\"Outcome\"]\n",
    "dta = pd.read_csv(DATASET_PATH,header=None)\n",
    "\n",
    "dta.columns = ['expertise','guided','Outcome']\n",
    "dta['expertise'] = dta['expertise'].astype(int)\n",
    "dta['guided'] = dta['guided'].astype(int)\n",
    "dta['outcome'] = dta['Outcome'].astype(int)\n",
    "stat.mannwhitneyu(dta[dta.expertise==0]['outcome'], dta[dta.expertise==1]['outcome'], use_continuity=False, alternative=None)\n"
   ]
  },
  {
   "cell_type": "code",
   "execution_count": 29,
   "metadata": {},
   "outputs": [
    {
     "data": {
      "text/plain": [
       "MannwhitneyuResult(statistic=48.0, pvalue=0.007642233653578941)"
      ]
     },
     "execution_count": 29,
     "metadata": {},
     "output_type": "execute_result"
    }
   ],
   "source": [
    "stat.mannwhitneyu(dta[dta.guided==0]['outcome'], dta[dta.guided==1]['outcome'], use_continuity=False, alternative=None)"
   ]
  },
  {
   "cell_type": "code",
   "execution_count": 16,
   "metadata": {},
   "outputs": [],
   "source": [
    "DATASET_PATH = \"./Input/design-progress.txt\"\n",
    "data_headers = [\"Expertise\",\"Guided\",\"Outcome\"]\n",
    "dta = pd.read_csv(DATASET_PATH,header=None)\n",
    "\n",
    "dta.columns = ['expertise','guided','Outcome']\n",
    "# dta['expertise'] = dta['expertise'].astype(int)\n",
    "# dta['guided'] = dta['guided'].astype(int)\n",
    "# dta['outcome'] = dta['Outcome'].astype(int)\n"
   ]
  },
  {
   "cell_type": "code",
   "execution_count": 25,
   "metadata": {},
   "outputs": [
    {
     "data": {
      "text/plain": [
       "2     1\n",
       "5     2\n",
       "6     2\n",
       "7     5\n",
       "8     0\n",
       "11    3\n",
       "12    3\n",
       "13    3\n",
       "16    0\n",
       "18    3\n",
       "20    1\n",
       "23    2\n",
       "25    1\n",
       "27    3\n",
       "Name: Outcome, dtype: int64"
      ]
     },
     "execution_count": 25,
     "metadata": {},
     "output_type": "execute_result"
    }
   ],
   "source": [
    "dta[dta.guided==1]['Outcome']"
   ]
  },
  {
   "cell_type": "code",
   "execution_count": 26,
   "metadata": {},
   "outputs": [
    {
     "data": {
      "text/plain": [
       "MannwhitneyuResult(statistic=87.0, pvalue=0.30210599130893034)"
      ]
     },
     "execution_count": 26,
     "metadata": {},
     "output_type": "execute_result"
    }
   ],
   "source": [
    "stat.mannwhitneyu(dta[dta.expertise==0]['Outcome'], dta[dta.expertise==1]['Outcome'], use_continuity=False, alternative=None)\n"
   ]
  },
  {
   "cell_type": "code",
   "execution_count": 27,
   "metadata": {},
   "outputs": [
    {
     "data": {
      "text/plain": [
       "MannwhitneyuResult(statistic=82.5, pvalue=0.23257086208302358)"
      ]
     },
     "execution_count": 27,
     "metadata": {},
     "output_type": "execute_result"
    }
   ],
   "source": [
    "stat.mannwhitneyu(dta[dta.guided==0]['Outcome'], dta[dta.guided==1]['Outcome'], use_continuity=False, alternative=None)"
   ]
  },
  {
   "cell_type": "code",
   "execution_count": null,
   "metadata": {
    "collapsed": true
   },
   "outputs": [],
   "source": []
  }
 ],
 "metadata": {
  "kernelspec": {
   "display_name": "Python 2",
   "language": "python",
   "name": "python2"
  },
  "language_info": {
   "codemirror_mode": {
    "name": "ipython",
    "version": 2
   },
   "file_extension": ".py",
   "mimetype": "text/x-python",
   "name": "python",
   "nbconvert_exporter": "python",
   "pygments_lexer": "ipython2",
   "version": "2.7.14"
  }
 },
 "nbformat": 4,
 "nbformat_minor": 2
}
