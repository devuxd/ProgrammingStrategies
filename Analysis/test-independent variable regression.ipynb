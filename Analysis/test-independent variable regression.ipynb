{
 "cells": [
  {
   "cell_type": "code",
   "execution_count": 1,
   "metadata": {},
   "outputs": [
    {
     "name": "stderr",
     "output_type": "stream",
     "text": [
      "/Users/maryam/anaconda2/lib/python2.7/site-packages/statsmodels/compat/pandas.py:56: FutureWarning: The pandas.core.datetools module is deprecated and will be removed in a future version. Please use the pandas.tseries module instead.\n",
      "  from pandas.core import datetools\n"
     ]
    },
    {
     "name": "stdout",
     "output_type": "stream",
     "text": [
      "                            OLS Regression Results                            \n",
      "==============================================================================\n",
      "Dep. Variable:                      y   R-squared:                       0.363\n",
      "Model:                            OLS   Adj. R-squared:                  0.319\n",
      "Method:                 Least Squares   F-statistic:                     8.342\n",
      "Date:                Tue, 17 Apr 2018   Prob (F-statistic):           0.000168\n",
      "Time:                        21:32:28   Log-Likelihood:                -295.45\n",
      "No. Observations:                  48   AIC:                             598.9\n",
      "Df Residuals:                      44   BIC:                             606.4\n",
      "Df Model:                           3                                         \n",
      "Covariance Type:            nonrobust                                         \n",
      "==============================================================================\n",
      "                 coef    std err          t      P>|t|      [0.025      0.975]\n",
      "------------------------------------------------------------------------------\n",
      "const        680.7824    102.383      6.649      0.000     474.443     887.122\n",
      "x1          -116.6710     76.995     -1.515      0.137    -271.844      38.502\n",
      "x2           -10.5126      2.459     -4.275      0.000     -15.469      -5.556\n",
      "x3          -168.7207     52.589     -3.208      0.002    -274.706     -62.735\n",
      "==============================================================================\n",
      "Omnibus:                       62.282   Durbin-Watson:                   1.256\n",
      "Prob(Omnibus):                  0.000   Jarque-Bera (JB):              530.769\n",
      "Skew:                           3.245   Prob(JB):                    5.56e-116\n",
      "Kurtosis:                      17.942   Cond. No.                         189.\n",
      "==============================================================================\n",
      "\n",
      "Warnings:\n",
      "[1] Standard Errors assume that the covariance matrix of the errors is correctly specified.\n"
     ]
    }
   ],
   "source": [
    "import numpy as np\n",
    "\n",
    "import statsmodels.api as sm\n",
    "\n",
    "import statsmodels.formula.api as smf\n",
    "\n",
    "#dependent variable (y)\n",
    "\n",
    "y = [984.5410628019, 128.8194444444, 94.495412844, 312.0331950207, \n",
    "\n",
    "65.1127819549, 168.3289588801, 301.7441860465, 90.1408450704, \n",
    "\n",
    "249.4573643411, 239.0361445783, 181.1775200714, 327.2440944882, \n",
    "\n",
    "230.9523809524, 158.9442815249, 30.3759398496, 152.5783619818, \n",
    "\n",
    "157.5938566553, 150.9933774834, 92.2413793103, 37.5706214689, \n",
    "\n",
    "161.2958226769, 125.1546391753, 181.0394610202, 423.9678899083, \n",
    "\n",
    "449.3975903614, 208.9949518128, 151.5695067265, 205.4315027158, \n",
    "\n",
    "187.1388998813, 121.733615222, 155.1660516605, 196.2901896125, \n",
    "\n",
    "211.9626168224, 120.3170028818, 104.2812254517, 245.7815565729, \n",
    "\n",
    "133.5061088486, 135.6054191363, 102.4313372355, 148.6814566764, \n",
    "\n",
    "125.9274357929, 166.783352781, 104.2042042042, 203.8586703859, \n",
    "\n",
    "183.3114323259, 251.4944939696, 124.5541022592, 264.9880095923]\n",
    "\n",
    "#independent variable 1 (x1)\n",
    "\n",
    "x1 = [0, 0, 0, 0, 0, 0, 0, 0, 0, 0, 0, 0, 0, 0, 0, 0, 0, 0, 0, 0, 0, 0, \n",
    "\n",
    "0, 1, 1, 1, 1, 1, 1, 1, 1, 1, 1, 1, 1, 1, 1, 1, 1, 1, 1, 1, 1, 1, 1, 1, \n",
    "\n",
    "0, 1]\n",
    "\n",
    "#independent variable 2 (x2)\n",
    "\n",
    "x2 = [28, 48, 45, 43, 46, 32, 27, 42, 36, 31, 30, 26, 29, 40, 49, 38, 35, \n",
    "\n",
    "37, 41, 47, 33, 39, 34, 12, 10, 4, 16, 15, 3, 20, 9, 2, 5, 23, 22, 11, \n",
    "\n",
    "13, 17, 24, 14, 19, 8, 18, 7, 21, 1, 25, 6]\n",
    "\n",
    "#independent variable 3 (x3)\n",
    "\n",
    "x3 = [0.09, 0.12, 0.17, 0.23, 0.31, 0.32, 0.33, 0.34, 0.38, 0.42, 0.43, \n",
    "\n",
    "0.5, 0.51, 0.52, 0.55, 0.74, 0.78, 0.79, 0.8, 0.83, 0.84, 0.93, 0.95, \n",
    "\n",
    "1.05, 1.05, 1.09, 1.11, 1.13, 1.2, 1.21, 1.24, 1.27, 1.33, 1.35, 1.38, \n",
    "\n",
    "1.43, 1.45, 1.45, 1.48, 1.6, 1.62, 1.7, 1.76, 1.79, 1.79, 1.79, 1.94, 2]\n",
    "\n",
    "x = np.column_stack((x1,x2,x3))\n",
    "\n",
    "x = sm.add_constant(x, prepend=True)\n",
    "\n",
    "results = smf.OLS(y,x).fit()\n",
    "\n",
    "print(results.summary())"
   ]
  },
  {
   "cell_type": "code",
   "execution_count": null,
   "metadata": {
    "collapsed": true
   },
   "outputs": [],
   "source": []
  }
 ],
 "metadata": {
  "kernelspec": {
   "display_name": "Python 2",
   "language": "python",
   "name": "python2"
  },
  "language_info": {
   "codemirror_mode": {
    "name": "ipython",
    "version": 2
   },
   "file_extension": ".py",
   "mimetype": "text/x-python",
   "name": "python",
   "nbconvert_exporter": "python",
   "pygments_lexer": "ipython2",
   "version": "2.7.14"
  }
 },
 "nbformat": 4,
 "nbformat_minor": 2
}
